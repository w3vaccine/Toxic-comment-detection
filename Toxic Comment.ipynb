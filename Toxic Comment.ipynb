{
 "cells": [
  {
   "cell_type": "code",
   "execution_count": 2,
   "metadata": {},
   "outputs": [],
   "source": [
    "import pandas as pd\n",
    "import numpy as np\n",
    "\n",
    "from sklearn.feature_extraction.text import CountVectorizer, TfidfVectorizer\n",
    "from sklearn.linear_model import LogisticRegression, SGDClassifier\n",
    "from sklearn.svm import LinearSVC\n",
    "from sklearn import model_selection\n",
    "from sklearn.model_selection import cross_val_score, train_test_split, GridSearchCV, RandomizedSearchCV\n",
    "from sklearn.pipeline import Pipeline\n",
    "from sklearn import metrics\n",
    "\n",
    "import nltk\n",
    "from nltk.stem.snowball import SnowballStemmer\n",
    "\n",
    "import matplotlib.pyplot as plt\n",
    "import seaborn as sns\n",
    "import re"
   ]
  },
  {
   "cell_type": "code",
   "execution_count": 3,
   "metadata": {},
   "outputs": [
    {
     "name": "stderr",
     "output_type": "stream",
     "text": [
      "[nltk_data] Downloading package averaged_perceptron_tagger_ru to\n",
      "[nltk_data]     /Users/zharas/nltk_data...\n",
      "[nltk_data]   Unzipping taggers/averaged_perceptron_tagger_ru.zip.\n"
     ]
    },
    {
     "data": {
      "text/plain": [
       "True"
      ]
     },
     "execution_count": 3,
     "metadata": {},
     "output_type": "execute_result"
    }
   ],
   "source": [
    "nltk.download('averaged_perceptron_tagger_ru')"
   ]
  },
  {
   "cell_type": "code",
   "execution_count": 4,
   "metadata": {},
   "outputs": [
    {
     "data": {
      "text/html": [
       "<div>\n",
       "<style scoped>\n",
       "    .dataframe tbody tr th:only-of-type {\n",
       "        vertical-align: middle;\n",
       "    }\n",
       "\n",
       "    .dataframe tbody tr th {\n",
       "        vertical-align: top;\n",
       "    }\n",
       "\n",
       "    .dataframe thead th {\n",
       "        text-align: right;\n",
       "    }\n",
       "</style>\n",
       "<table border=\"1\" class=\"dataframe\">\n",
       "  <thead>\n",
       "    <tr style=\"text-align: right;\">\n",
       "      <th></th>\n",
       "      <th>comment</th>\n",
       "      <th>toxic</th>\n",
       "    </tr>\n",
       "  </thead>\n",
       "  <tbody>\n",
       "    <tr>\n",
       "      <th>0</th>\n",
       "      <td>Верблюдов-то за что? Дебилы, бл...\\n</td>\n",
       "      <td>1.0</td>\n",
       "    </tr>\n",
       "    <tr>\n",
       "      <th>1</th>\n",
       "      <td>Хохлы, это отдушина затюканого россиянина, мол...</td>\n",
       "      <td>1.0</td>\n",
       "    </tr>\n",
       "    <tr>\n",
       "      <th>2</th>\n",
       "      <td>Собаке - собачья смерть\\n</td>\n",
       "      <td>1.0</td>\n",
       "    </tr>\n",
       "    <tr>\n",
       "      <th>3</th>\n",
       "      <td>Страницу обнови, дебил. Это тоже не оскорблени...</td>\n",
       "      <td>1.0</td>\n",
       "    </tr>\n",
       "    <tr>\n",
       "      <th>4</th>\n",
       "      <td>тебя не убедил 6-страничный пдф в том, что Скр...</td>\n",
       "      <td>1.0</td>\n",
       "    </tr>\n",
       "    <tr>\n",
       "      <th>5</th>\n",
       "      <td>Для каких стан является эталоном современная с...</td>\n",
       "      <td>1.0</td>\n",
       "    </tr>\n",
       "    <tr>\n",
       "      <th>6</th>\n",
       "      <td>В шапке были ссылки на инфу по текущему фильму...</td>\n",
       "      <td>0.0</td>\n",
       "    </tr>\n",
       "    <tr>\n",
       "      <th>7</th>\n",
       "      <td>УПАД Т! ТАМ НЕЛЬЗЯ СТРОИТЬ! ТЕХНОЛОГИЙ НЕТ! РА...</td>\n",
       "      <td>1.0</td>\n",
       "    </tr>\n",
       "    <tr>\n",
       "      <th>8</th>\n",
       "      <td>Ебать тебя разносит, шизик.\\n</td>\n",
       "      <td>1.0</td>\n",
       "    </tr>\n",
       "    <tr>\n",
       "      <th>9</th>\n",
       "      <td>Обосрался, сиди обтекай\\n</td>\n",
       "      <td>1.0</td>\n",
       "    </tr>\n",
       "  </tbody>\n",
       "</table>\n",
       "</div>"
      ],
      "text/plain": [
       "                                             comment  toxic\n",
       "0               Верблюдов-то за что? Дебилы, бл...\\n    1.0\n",
       "1  Хохлы, это отдушина затюканого россиянина, мол...    1.0\n",
       "2                          Собаке - собачья смерть\\n    1.0\n",
       "3  Страницу обнови, дебил. Это тоже не оскорблени...    1.0\n",
       "4  тебя не убедил 6-страничный пдф в том, что Скр...    1.0\n",
       "5  Для каких стан является эталоном современная с...    1.0\n",
       "6  В шапке были ссылки на инфу по текущему фильму...    0.0\n",
       "7  УПАД Т! ТАМ НЕЛЬЗЯ СТРОИТЬ! ТЕХНОЛОГИЙ НЕТ! РА...    1.0\n",
       "8                      Ебать тебя разносит, шизик.\\n    1.0\n",
       "9                          Обосрался, сиди обтекай\\n    1.0"
      ]
     },
     "execution_count": 4,
     "metadata": {},
     "output_type": "execute_result"
    }
   ],
   "source": [
    "df = pd.read_csv('data/labeled.csv')\n",
    "df.head(10)"
   ]
  },
  {
   "cell_type": "code",
   "execution_count": 7,
   "metadata": {},
   "outputs": [
    {
     "data": {
      "image/png": "[encoded data removed]",
      "text/plain": [
       "<Figure size 432x288 with 1 Axes>"
      ]
     },
     "metadata": {
      "needs_background": "light"
     },
     "output_type": "display_data"
    },
    {
     "name": "stdout",
     "output_type": "stream",
     "text": [
      "Comment description\n",
      "\n",
      "      comment                                                               \n",
      "        count unique                                                top freq\n",
      "toxic                                                                       \n",
      "0.0      9586   9586  Вот из за этих ножек разговоров то. Ножки сдел...    1\n",
      "1.0      4826   4826  Смотри что бы из рука лицо не превратилась в л...    1\n",
      "\n",
      "              toxic\n",
      "count  14412.000000\n",
      "mean       0.334860\n",
      "std        0.471958\n",
      "min        0.000000\n",
      "25%        0.000000\n",
      "50%        0.000000\n",
      "75%        1.000000\n",
      "max        1.000000\n"
     ]
    }
   ],
   "source": [
    "desc = df.groupby('toxic').describe()\n",
    "\n",
    "plt.bar('0', desc['comment']['count'][0], label=\"Non toxical comment\", color='green')\n",
    "plt.bar('1', desc['comment']['count'][1], label=\"Toxical comment\", color='red')\n",
    "plt.legend()\n",
    "plt.ylabel('Number of comments')\n",
    "plt.title('Comment groups')\n",
    "plt.show()\n",
    "\n",
    "print('Comment description\\n')\n",
    "print(desc)\n",
    "print()\n",
    "print(df.describe())"
   ]
  },
  {
   "cell_type": "code",
   "execution_count": 8,
   "metadata": {},
   "outputs": [
    {
     "data": {
      "image/png": "[encoded data removed]",
      "text/plain": [
       "<Figure size 720x360 with 2 Axes>"
      ]
     },
     "metadata": {
      "needs_background": "light"
     },
     "output_type": "display_data"
    }
   ],
   "source": [
    "fig, (ax1,ax2) = plt.subplots(1,2,figsize=(10,5))\n",
    "\n",
    "ax1.hist(df[df['toxic']==0]['comment'].str.len() ,color='green')\n",
    "ax1.set_title('non toxic')\n",
    "\n",
    "ax2.hist(df[df['toxic']==1]['comment'].str.len() ,color='red')\n",
    "ax2.set_title('toxic')\n",
    "\n",
    "fig.suptitle('Characters in comments')\n",
    "plt.show()"
   ]
  },
  {
   "cell_type": "code",
   "execution_count": 9,
   "metadata": {},
   "outputs": [
    {
     "data": {
      "image/png": "[encoded data removed]",
      "text/plain": [
       "<Figure size 720x360 with 2 Axes>"
      ]
     },
     "metadata": {
      "needs_background": "light"
     },
     "output_type": "display_data"
    }
   ],
   "source": [
    "fig, (ax1,ax2) = plt.subplots(1,2,figsize=(10,5))\n",
    "\n",
    "ax1.hist(df[df['toxic']==0]['comment'].str.split().map(lambda x: len(x)) ,color='green')\n",
    "ax1.set_title('non toxic')\n",
    "\n",
    "ax2.hist(df[df['toxic']==1]['comment'].str.split().map(lambda x: len(x)) ,color='red')\n",
    "ax2.set_title('toxic')\n",
    "\n",
    "fig.suptitle('Words in comments')\n",
    "plt.show()"
   ]
  },
  {
   "cell_type": "markdown",
   "metadata": {},
   "source": [
    "# Preparation"
   ]
  },
  {
   "cell_type": "code",
   "execution_count": 10,
   "metadata": {},
   "outputs": [],
   "source": [
    "text = np.array(df.comment.values)\n",
    "target = df.toxic.astype(int).values"
   ]
  },
  {
   "cell_type": "code",
   "execution_count": 11,
   "metadata": {},
   "outputs": [],
   "source": [
    "def upperCaseRate(string):\n",
    "    \"Returns percentage of uppercase letters in the string\"\n",
    "    return np.array(list(map(str.isupper, string))).mean()"
   ]
  },
  {
   "cell_type": "code",
   "execution_count": 12,
   "metadata": {},
   "outputs": [],
   "source": [
    "upcaseRate = list(map(upperCaseRate, df.comment.values))"
   ]
  },
  {
   "cell_type": "code",
   "execution_count": 13,
   "metadata": {},
   "outputs": [],
   "source": [
    "def cleanText(string):\n",
    "    \"\"\"This function deletes all symbols except Cyrilic and Base Latin alphabet,\n",
    "    stopwords, functional parts of speech. Returns string of words stem.\"\"\"\n",
    "    # Common cleaning\n",
    "    string = string.lower()\n",
    "    string = re.sub(r\"http\\S+\", \"\", string)\n",
    "    string = str.replace(string,'Ё','е')\n",
    "    string = str.replace(string,'ё','е')\n",
    "    prog = re.compile('[А-Яа-яA-Za-z]+')\n",
    "    words = prog.findall(string.lower())\n",
    "    \n",
    "    # Word Cleaning\n",
    "    ## Stop Words\n",
    "    stopwords = nltk.corpus.stopwords.words('russian')\n",
    "    words = [w for w in words if w not in stopwords]\n",
    "    ## Cleaning functional POS (Parts of Speech)\n",
    "    functionalPos = {'CONJ', 'PRCL'}\n",
    "    words = [w for w, pos in nltk.pos_tag(words, lang='rus') if pos not in functionalPos]\n",
    "    ## Stemming\n",
    "    stemmer = SnowballStemmer('russian')\n",
    "    return ' '.join(list(map(stemmer.stem, words)))"
   ]
  },
  {
   "cell_type": "code",
   "execution_count": 15,
   "metadata": {},
   "outputs": [
    {
     "name": "stdout",
     "output_type": "stream",
     "text": [
      "CPU times: user 46.1 s, sys: 1.46 s, total: 47.5 s\n",
      "Wall time: 49.6 s\n"
     ]
    }
   ],
   "source": [
    "%%time\n",
    "text = list(map(cleanText, text))"
   ]
  },
  {
   "cell_type": "markdown",
   "metadata": {},
   "source": [
    "# Processing"
   ]
  },
  {
   "cell_type": "code",
   "execution_count": 16,
   "metadata": {},
   "outputs": [
    {
     "name": "stdout",
     "output_type": "stream",
     "text": [
      "Dim of train: 10088 \tTarget rate: 0.33%\n",
      "Dim of test: 4324 \tTarget rate: 0.33%\n"
     ]
    }
   ],
   "source": [
    "X_train, X_test, y_train, y_test = train_test_split(text, target, test_size=.3, stratify=target, shuffle = True, random_state=0)\n",
    "print('Dim of train:', len(X_train), '\\tTarget rate: {:.2f}%'.format(y_train.mean()))\n",
    "print(\"Dim of test:\", len(X_test), '\\tTarget rate: {:.2f}%'.format(y_test.mean()))"
   ]
  },
  {
   "cell_type": "code",
   "execution_count": 17,
   "metadata": {},
   "outputs": [
    {
     "data": {
      "text/plain": [
       "Pipeline(memory=None,\n",
       "         steps=[('vectorizer',\n",
       "                 TfidfVectorizer(analyzer='word', binary=False,\n",
       "                                 decode_error='strict',\n",
       "                                 dtype=<class 'numpy.float64'>,\n",
       "                                 encoding='utf-8', input='content',\n",
       "                                 lowercase=True, max_df=1.0, max_features=None,\n",
       "                                 min_df=1, ngram_range=(1, 1), norm='l2',\n",
       "                                 preprocessor=None, smooth_idf=True,\n",
       "                                 stop_words=None, strip_accents=None,\n",
       "                                 sublinear_tf=False,\n",
       "                                 token_pattern='(?u)\\\\b\\\\w\\\\w+\\\\b',\n",
       "                                 tokenizer=None, use_idf=True,\n",
       "                                 vocabulary=None)),\n",
       "                ('classifier',\n",
       "                 LinearSVC(C=1.0, class_weight=None, dual=True,\n",
       "                           fit_intercept=True, intercept_scaling=1,\n",
       "                           loss='squared_hinge', max_iter=1000,\n",
       "                           multi_class='ovr', penalty='l2', random_state=None,\n",
       "                           tol=0.0001, verbose=0))],\n",
       "         verbose=False)"
      ]
     },
     "execution_count": 17,
     "metadata": {},
     "output_type": "execute_result"
    }
   ],
   "source": [
    "clf_pipeline = Pipeline(\n",
    "            [(\"vectorizer\", TfidfVectorizer()), # Prod feature: tokenizer=cleanText\n",
    "            (\"classifier\", LinearSVC())]\n",
    "        )\n",
    "\n",
    "clf_pipeline.fit(X_train, y_train)"
   ]
  },
  {
   "cell_type": "code",
   "execution_count": 18,
   "metadata": {},
   "outputs": [
    {
     "data": {
      "image/png": "[encoded data removed]",
      "text/plain": [
       "<Figure size 504x504 with 2 Axes>"
      ]
     },
     "metadata": {
      "needs_background": "light"
     },
     "output_type": "display_data"
    }
   ],
   "source": [
    "cm = metrics.confusion_matrix(y_test, clf_pipeline.predict(X_test))\n",
    "\n",
    "def plotConfusionMatrix(cm):\n",
    "    fig = plt.figure(figsize=(7,7))\n",
    "    sns.heatmap(cm, annot=True, fmt=\"d\")\n",
    "    plt.title('Confusion Matrix')\n",
    "    plt.ylabel('True label')\n",
    "    plt.xlabel('Predicted label')\n",
    "    return None\n",
    "\n",
    "plotConfusionMatrix(cm)"
   ]
  },
  {
   "cell_type": "code",
   "execution_count": 19,
   "metadata": {},
   "outputs": [
    {
     "name": "stdout",
     "output_type": "stream",
     "text": [
      "              precision    recall  f1-score   support\n",
      "\n",
      "           0       0.88      0.95      0.91      2876\n",
      "           1       0.87      0.75      0.81      1448\n",
      "\n",
      "    accuracy                           0.88      4324\n",
      "   macro avg       0.88      0.85      0.86      4324\n",
      "weighted avg       0.88      0.88      0.88      4324\n",
      "\n"
     ]
    }
   ],
   "source": [
    "print(metrics.classification_report(y_test, clf_pipeline.predict(X_test)))\n",
    "f1_base = metrics.f1_score(y_test, clf_pipeline.predict(X_test))"
   ]
  },
  {
   "cell_type": "markdown",
   "metadata": {},
   "source": [
    "# Adjust"
   ]
  },
  {
   "cell_type": "code",
   "execution_count": 20,
   "metadata": {},
   "outputs": [
    {
     "name": "stdout",
     "output_type": "stream",
     "text": [
      "memory\n",
      "steps\n",
      "verbose\n",
      "vectorizer\n",
      "classifier\n",
      "vectorizer__analyzer\n",
      "vectorizer__binary\n",
      "vectorizer__decode_error\n",
      "vectorizer__dtype\n",
      "vectorizer__encoding\n",
      "vectorizer__input\n",
      "vectorizer__lowercase\n",
      "vectorizer__max_df\n",
      "vectorizer__max_features\n",
      "vectorizer__min_df\n",
      "vectorizer__ngram_range\n",
      "vectorizer__norm\n",
      "vectorizer__preprocessor\n",
      "vectorizer__smooth_idf\n",
      "vectorizer__stop_words\n",
      "vectorizer__strip_accents\n",
      "vectorizer__sublinear_tf\n",
      "vectorizer__token_pattern\n",
      "vectorizer__tokenizer\n",
      "vectorizer__use_idf\n",
      "vectorizer__vocabulary\n",
      "classifier__C\n",
      "classifier__class_weight\n",
      "classifier__dual\n",
      "classifier__fit_intercept\n",
      "classifier__intercept_scaling\n",
      "classifier__loss\n",
      "classifier__max_iter\n",
      "classifier__multi_class\n",
      "classifier__penalty\n",
      "classifier__random_state\n",
      "classifier__tol\n",
      "classifier__verbose\n"
     ]
    }
   ],
   "source": [
    "print('\\n'.join(clf_pipeline.get_params().keys()))"
   ]
  },
  {
   "cell_type": "code",
   "execution_count": 21,
   "metadata": {},
   "outputs": [],
   "source": [
    "parameters = {'vectorizer__max_features': (10**3, 10**4),\n",
    "              'vectorizer__ngram_range': ((1, 2),(2, 3)),\n",
    "              'classifier__penalty': ('l1','l2'),\n",
    "              'classifier__C': (range(1,10,2))\n",
    "             }"
   ]
  },
  {
   "cell_type": "code",
   "execution_count": 31,
   "metadata": {},
   "outputs": [
    {
     "data": {
      "text/plain": [
       "GridSearchCV(cv=4, error_score=nan,\n",
       "             estimator=Pipeline(memory=None,\n",
       "                                steps=[('vectorizer',\n",
       "                                        TfidfVectorizer(analyzer='word',\n",
       "                                                        binary=False,\n",
       "                                                        decode_error='strict',\n",
       "                                                        dtype=<class 'numpy.float64'>,\n",
       "                                                        encoding='utf-8',\n",
       "                                                        input='content',\n",
       "                                                        lowercase=True,\n",
       "                                                        max_df=1.0,\n",
       "                                                        max_features=None,\n",
       "                                                        min_df=1,\n",
       "                                                        ngram_range=(1, 1),\n",
       "                                                        norm='l2',\n",
       "                                                        preprocessor=None,\n",
       "                                                        smooth_idf=True,\n",
       "                                                        stop_words=None,\n",
       "                                                        stri...\n",
       "                                                  multi_class='ovr',\n",
       "                                                  penalty='l2',\n",
       "                                                  random_state=None, tol=0.0001,\n",
       "                                                  verbose=0))],\n",
       "                                verbose=False),\n",
       "             iid='deprecated', n_jobs=-1,\n",
       "             param_grid={'classifier__C': range(1, 10, 2),\n",
       "                         'classifier__penalty': ('l1', 'l2'),\n",
       "                         'vectorizer__max_features': (1000, 10000),\n",
       "                         'vectorizer__ngram_range': ((1, 2), (2, 3))},\n",
       "             pre_dispatch='2*n_jobs', refit=True, return_train_score=False,\n",
       "             scoring='f1', verbose=0)"
      ]
     },
     "execution_count": 31,
     "metadata": {},
     "output_type": "execute_result"
    }
   ],
   "source": [
    "gscv_clf = GridSearchCV(clf_pipeline, parameters, scoring='f1', cv = 4, n_jobs=-1)\n",
    "gscv_clf.fit(X_train, y_train)"
   ]
  },
  {
   "cell_type": "code",
   "execution_count": 34,
   "metadata": {},
   "outputs": [
    {
     "name": "stdout",
     "output_type": "stream",
     "text": [
      "              precision    recall  f1-score   support\n",
      "\n",
      "           0       0.88      0.93      0.90      2876\n",
      "           1       0.85      0.74      0.79      1448\n",
      "\n",
      "    accuracy                           0.87      4324\n",
      "   macro avg       0.86      0.84      0.85      4324\n",
      "weighted avg       0.87      0.87      0.87      4324\n",
      "\n"
     ]
    }
   ],
   "source": [
    "print(metrics.classification_report(y_test, gscv_clf.predict(X_test)))\n",
    "f1_gsLSVC = metrics.f1_score(y_test, gscv_clf.predict(X_test))"
   ]
  },
  {
   "cell_type": "markdown",
   "metadata": {},
   "source": [
    "# Results"
   ]
  },
  {
   "cell_type": "code",
   "execution_count": 56,
   "metadata": {},
   "outputs": [
    {
     "data": {
      "text/html": [
       "<div>\n",
       "<style scoped>\n",
       "    .dataframe tbody tr th:only-of-type {\n",
       "        vertical-align: middle;\n",
       "    }\n",
       "\n",
       "    .dataframe tbody tr th {\n",
       "        vertical-align: top;\n",
       "    }\n",
       "\n",
       "    .dataframe thead th {\n",
       "        text-align: right;\n",
       "    }\n",
       "</style>\n",
       "<table border=\"1\" class=\"dataframe\">\n",
       "  <thead>\n",
       "    <tr style=\"text-align: right;\">\n",
       "      <th></th>\n",
       "      <th>f1 score</th>\n",
       "    </tr>\n",
       "  </thead>\n",
       "  <tbody>\n",
       "    <tr>\n",
       "      <th>BaseLine</th>\n",
       "      <td>0.805060</td>\n",
       "    </tr>\n",
       "    <tr>\n",
       "      <th>GS_LSVC</th>\n",
       "      <td>0.790406</td>\n",
       "    </tr>\n",
       "  </tbody>\n",
       "</table>\n",
       "</div>"
      ],
      "text/plain": [
       "          f1 score\n",
       "BaseLine  0.805060\n",
       "GS_LSVC   0.790406"
      ]
     },
     "execution_count": 56,
     "metadata": {},
     "output_type": "execute_result"
    }
   ],
   "source": [
    "pd.DataFrame([f1_base, f1_gsLSVC], index=['BaseLine', 'GS_LSVC'], columns=['f1 score'])"
   ]
  }
 ],
 "metadata": {
  "kernelspec": {
   "display_name": "Python 3",
   "language": "python",
   "name": "python3"
  },
  "language_info": {
   "codemirror_mode": {
    "name": "ipython",
    "version": 3
   },
   "file_extension": ".py",
   "mimetype": "text/x-python",
   "name": "python",
   "nbconvert_exporter": "python",
   "pygments_lexer": "ipython3",
   "version": "3.7.3"
  },
  "toc": {
   "base_numbering": 1,
   "nav_menu": {},
   "number_sections": true,
   "sideBar": true,
   "skip_h1_title": false,
   "title_cell": "Table of Contents",
   "title_sidebar": "Contents",
   "toc_cell": false,
   "toc_position": {},
   "toc_section_display": true,
   "toc_window_display": false
  }
 },
 "nbformat": 4,
 "nbformat_minor": 2
}
